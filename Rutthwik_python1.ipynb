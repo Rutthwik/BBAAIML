{
  "nbformat": 4,
  "nbformat_minor": 0,
  "metadata": {
    "colab": {
      "name": "Rutthwik python1.ipynb",
      "provenance": [],
      "authorship_tag": "ABX9TyM+eBRF9yi8gOjOrCji42Mg",
      "include_colab_link": true
    },
    "kernelspec": {
      "name": "python3",
      "display_name": "Python 3"
    }
  },
  "cells": [
    {
      "cell_type": "markdown",
      "metadata": {
        "id": "view-in-github",
        "colab_type": "text"
      },
      "source": [
        "<a href=\"https://colab.research.google.com/github/Rutthwik/BBAAIML/blob/main/Rutthwik_python1.ipynb\" target=\"_parent\"><img src=\"https://colab.research.google.com/assets/colab-badge.svg\" alt=\"Open In Colab\"/></a>"
      ]
    },
    {
      "cell_type": "code",
      "metadata": {
        "id": "VFSDqcvmFq7I",
        "colab": {
          "base_uri": "https://localhost:8080/"
        },
        "outputId": "abb16590-d7b8-4b2a-f17e-b19dd26a7618"
      },
      "source": [
        "x=2\r\n",
        "\r\n",
        "\r\n"
      ],
      "execution_count": null,
      "outputs": [
        {
          "output_type": "execute_result",
          "data": {
            "text/plain": [
              "4"
            ]
          },
          "metadata": {
            "tags": []
          },
          "execution_count": 10
        }
      ]
    },
    {
      "cell_type": "code",
      "metadata": {
        "id": "6BETx7BJmQ8U"
      },
      "source": [
        "x=x+2"
      ],
      "execution_count": null,
      "outputs": []
    },
    {
      "cell_type": "code",
      "metadata": {
        "colab": {
          "base_uri": "https://localhost:8080/",
          "height": 35
        },
        "id": "Y21tv1-ymVS5",
        "outputId": "1e3abaec-5263-46d9-b938-d520b94041f9"
      },
      "source": [
        "x"
      ],
      "execution_count": null,
      "outputs": [
        {
          "output_type": "execute_result",
          "data": {
            "application/vnd.google.colaboratory.intrinsic+json": {
              "type": "string"
            },
            "text/plain": [
              "'BBA'"
            ]
          },
          "metadata": {
            "tags": []
          },
          "execution_count": 9
        }
      ]
    },
    {
      "cell_type": "code",
      "metadata": {
        "colab": {
          "base_uri": "https://localhost:8080/"
        },
        "id": "dYGKBRwSn-29",
        "outputId": "62ed5968-4f19-48ef-c907-bac752653d3d"
      },
      "source": [
        "5%2"
      ],
      "execution_count": null,
      "outputs": [
        {
          "output_type": "execute_result",
          "data": {
            "text/plain": [
              "1"
            ]
          },
          "metadata": {
            "tags": []
          },
          "execution_count": 11
        }
      ]
    },
    {
      "cell_type": "code",
      "metadata": {
        "id": "qpz9_buopxI5"
      },
      "source": [
        "x=1+2*3-4/5"
      ],
      "execution_count": null,
      "outputs": []
    },
    {
      "cell_type": "code",
      "metadata": {
        "colab": {
          "base_uri": "https://localhost:8080/"
        },
        "id": "6PyP_TxRqHmk",
        "outputId": "a2db2bfc-174a-4b5d-baf7-c798730b375d"
      },
      "source": [
        "x"
      ],
      "execution_count": null,
      "outputs": [
        {
          "output_type": "execute_result",
          "data": {
            "text/plain": [
              "6.2"
            ]
          },
          "metadata": {
            "tags": []
          },
          "execution_count": 18
        }
      ]
    },
    {
      "cell_type": "code",
      "metadata": {
        "id": "Sm1__kfMqm0l"
      },
      "source": [
        "x=99.0/100.0"
      ],
      "execution_count": null,
      "outputs": []
    },
    {
      "cell_type": "code",
      "metadata": {
        "colab": {
          "base_uri": "https://localhost:8080/"
        },
        "id": "Tey385zkqqQm",
        "outputId": "f2f1594e-13d5-444c-a02a-e2782b3ad732"
      },
      "source": [
        "x"
      ],
      "execution_count": null,
      "outputs": [
        {
          "output_type": "execute_result",
          "data": {
            "text/plain": [
              "0.99"
            ]
          },
          "metadata": {
            "tags": []
          },
          "execution_count": 20
        }
      ]
    },
    {
      "cell_type": "code",
      "metadata": {
        "colab": {
          "base_uri": "https://localhost:8080/",
          "height": 35
        },
        "id": "iYSiUi11r0Sc",
        "outputId": "3a913821-7707-4f79-b248-39040777f4bb"
      },
      "source": [
        "e='Hello I am XYZ'+'yes sir'\r\n",
        "e"
      ],
      "execution_count": null,
      "outputs": [
        {
          "output_type": "execute_result",
          "data": {
            "application/vnd.google.colaboratory.intrinsic+json": {
              "type": "string"
            },
            "text/plain": [
              "'Hello I am XYZyes sir'"
            ]
          },
          "metadata": {
            "tags": []
          },
          "execution_count": 22
        }
      ]
    },
    {
      "cell_type": "code",
      "metadata": {
        "colab": {
          "base_uri": "https://localhost:8080/"
        },
        "id": "kXYRfYZksd5y",
        "outputId": "f6a639ac-c75d-4e71-8f6a-5d1a7833be7a"
      },
      "source": [
        "e=1.0\r\n",
        "type(e)"
      ],
      "execution_count": null,
      "outputs": [
        {
          "output_type": "execute_result",
          "data": {
            "text/plain": [
              "float"
            ]
          },
          "metadata": {
            "tags": []
          },
          "execution_count": 24
        }
      ]
    },
    {
      "cell_type": "code",
      "metadata": {
        "colab": {
          "base_uri": "https://localhost:8080/"
        },
        "id": "CLzVsNnktSOH",
        "outputId": "8e14c549-dda4-4d3e-d5fe-26315210309b"
      },
      "source": [
        "x=input(\"please input a number:\")\r\n",
        "type(x)\r\n"
      ],
      "execution_count": null,
      "outputs": [
        {
          "output_type": "stream",
          "text": [
            "please input a number:10\n"
          ],
          "name": "stdout"
        },
        {
          "output_type": "execute_result",
          "data": {
            "text/plain": [
              "str"
            ]
          },
          "metadata": {
            "tags": []
          },
          "execution_count": 27
        }
      ]
    },
    {
      "cell_type": "code",
      "metadata": {
        "colab": {
          "base_uri": "https://localhost:8080/"
        },
        "id": "dpU60_6tt1XQ",
        "outputId": "f67a6d38-605b-480f-8b29-c498578c2732"
      },
      "source": [
        "x=input(\"please input a number:\")\r\n",
        "print(\"Before cast:\",type(x))\r\n",
        "print(\"After cast:\",type(int(x)))"
      ],
      "execution_count": null,
      "outputs": [
        {
          "output_type": "stream",
          "text": [
            "please input a number:10\n",
            "Before cast: <class 'str'>\n",
            "After cast: <class 'int'>\n"
          ],
          "name": "stdout"
        }
      ]
    },
    {
      "cell_type": "code",
      "metadata": {
        "colab": {
          "base_uri": "https://localhost:8080/"
        },
        "id": "6lUqjehxuLxR",
        "outputId": "bc6ca036-72bd-4934-b3fd-e734bc51abfa"
      },
      "source": [
        "#taking input from user\r\n",
        "x=input(\"please input a number:\")\r\n",
        "#Adding the input with 2\r\n",
        "sum=int(x)+2\r\n",
        "#print the sum\r\n",
        "print(sum)"
      ],
      "execution_count": null,
      "outputs": [
        {
          "output_type": "stream",
          "text": [
            "please input a number:20\n",
            "22\n"
          ],
          "name": "stdout"
        }
      ]
    },
    {
      "cell_type": "code",
      "metadata": {
        "colab": {
          "base_uri": "https://localhost:8080/"
        },
        "id": "htNVXsJOvUCR",
        "outputId": "95955d98-33de-4d3e-8259-e6c6af976197"
      },
      "source": [
        "x=(\"hello world\"*10)\r\n",
        "print(x)"
      ],
      "execution_count": null,
      "outputs": [
        {
          "output_type": "stream",
          "text": [
            "hello worldhello worldhello worldhello worldhello worldhello worldhello worldhello worldhello worldhello world\n"
          ],
          "name": "stdout"
        }
      ]
    },
    {
      "cell_type": "code",
      "metadata": {
        "colab": {
          "base_uri": "https://localhost:8080/"
        },
        "id": "1cAcnlTRwBtf",
        "outputId": "98799d2d-d64b-4eb2-c8e6-d317c318f9fe"
      },
      "source": [
        "x=input(\"please input a number:\")\r\n",
        "y=input('please input a number:')\r\n",
        "sum=int(x)*float(y)\r\n",
        "print(sum)"
      ],
      "execution_count": null,
      "outputs": [
        {
          "output_type": "stream",
          "text": [
            "please input a number:35\n",
            "please input a number:2.75\n",
            "96.25\n"
          ],
          "name": "stdout"
        }
      ]
    }
  ]
}